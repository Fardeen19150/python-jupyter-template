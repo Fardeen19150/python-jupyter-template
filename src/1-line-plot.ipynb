{
 "cells": [
  {
   "cell_type": "markdown",
   "metadata": {},
   "source": [
    "### Exercise 1: Line Plot Customization"
   ]
  },
  {
   "cell_type": "code",
   "execution_count": null,
   "metadata": {},
   "outputs": [],
   "source": [
    "# TASK: Create a line plot with x values ranging from 0 to 10 and y values as the square of x.\n",
    "# Customize the plot by adding a title, labels for both axes, and a grid.\n",
    "import matplotlib.pyplot as plt\n",
    "import numpy as np\n",
    "\n",
    "# Generate x values from 0 to 10\n",
    "x = np.linspace(0, 10, 100)\n",
    "\n",
    "# Compute y values as the square of x\n",
    "y = x ** 2\n",
    "\n",
    "# Create the line plot\n",
    "plt.plot(x, y, color='blue')\n",
    "\n",
    "# Add title and axis labels\n",
    "plt.title('Line Plot of y = x²')\n",
    "plt.xlabel('X Axis')\n",
    "plt.ylabel('Y = X Squared')\n",
    "\n",
    "# Add grid to the plot\n",
    "plt.grid(True)\n",
    "\n",
    "# Display the plot\n",
    "plt.show()\n"
   ]
  }
 ],
 "metadata": {
  "language_info": {
   "name": "python"
  }
 },
 "nbformat": 4,
 "nbformat_minor": 2
}
