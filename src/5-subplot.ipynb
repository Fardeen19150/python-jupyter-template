{
 "cells": [
  {
   "cell_type": "markdown",
   "metadata": {},
   "source": [
    "### Exercise 5: Subplot Layout"
   ]
  },
  {
   "cell_type": "code",
   "execution_count": null,
   "metadata": {},
   "outputs": [],
   "source": [
    "# TASK: Create a 2x2 subplot layout.\n",
    "# Plot a line chart in the first subplot, a bar chart in the second, a scatter plot in the third, and a pie chart in the fourth.\n",
    "import matplotlib.pyplot as plt\n",
    "\n",
    "# Data for plots\n",
    "x = [1, 2, 3, 4, 5]\n",
    "y = [i**2 for i in x]\n",
    "bar_categories = ['A', 'B', 'C', 'D']\n",
    "bar_values = [5, 7, 3, 9]\n",
    "scatter_y = [2, 4, 6, 8, 10]\n",
    "pie_labels = ['Python', 'Java', 'C++', 'JavaScript']\n",
    "pie_sizes = [40, 25, 20, 15]\n",
    "\n",
    "# Create 2x2 subplot layout\n",
    "fig, axs = plt.subplots(2, 2, figsize=(10, 8))\n",
    "\n",
    "# First subplot: Line chart\n",
    "axs[0, 0].plot(x, y, color='blue')\n",
    "axs[0, 0].set_title('Line Chart')\n",
    "\n",
    "# Second subplot: Bar chart\n",
    "axs[0, 1].bar(bar_categories, bar_values, color='green')\n",
    "axs[0, 1].set_title('Bar Chart')\n",
    "\n",
    "# Third subplot: Scatter plot\n",
    "axs[1, 0].scatter(x, scatter_y, color='red')\n",
    "axs[1, 0].set_title('Scatter Plot')\n",
    "\n",
    "# Fourth subplot: Pie chart\n",
    "axs[1, 1].pie(pie_sizes, labels=pie_labels, autopct='%1.1f%%', startangle=140)\n",
    "axs[1, 1].set_title('Pie Chart')\n",
    "\n",
    "# Adjust layout\n",
    "plt.tight_layout()\n",
    "plt.show()\n"
   ]
  }
 ],
 "metadata": {
  "language_info": {
   "name": "python"
  }
 },
 "nbformat": 4,
 "nbformat_minor": 2
}
